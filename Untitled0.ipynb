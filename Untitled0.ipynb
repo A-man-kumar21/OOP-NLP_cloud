{
  "nbformat": 4,
  "nbformat_minor": 0,
  "metadata": {
    "colab": {
      "provenance": []
    },
    "kernelspec": {
      "name": "python3",
      "display_name": "Python 3"
    },
    "language_info": {
      "name": "python"
    }
  },
  "cells": [
    {
      "cell_type": "code",
      "execution_count": null,
      "metadata": {
        "colab": {
          "base_uri": "https://localhost:8080/"
        },
        "id": "ZYIu3tzVWqRB",
        "outputId": "aa9a13eb-e3d3-441e-931c-000a751a0c8e"
      },
      "outputs": [
        {
          "output_type": "execute_result",
          "data": {
            "text/plain": [
              "{'entities': [{'start': 26,\n",
              "   'end': 36,\n",
              "   'type': 'programming languages',\n",
              "   'text': 'Javascript'},\n",
              "  {'start': 102,\n",
              "   'end': 108,\n",
              "   'type': 'programming languages',\n",
              "   'text': 'Python'},\n",
              "  {'start': 165, 'end': 167, 'type': 'programming languages', 'text': 'Go'}]}"
            ]
          },
          "metadata": {},
          "execution_count": 15
        }
      ],
      "source": [
        "import nlpcloud\n",
        "\n",
        "client = nlpcloud.Client(\"finetuned-llama-3-70b\", \"5d4438bb232a5de701a472a229ea3d94eaa18e9d\", gpu=True)\n",
        "client.entities(\n",
        "    \"\"\"John Doe started learning Javascript when he was 15 years old. After a couple of years he switched to Python and starter learning low level programming. He is now a Go expert at Google.\"\"\",\n",
        "    searched_entity=\"programming languages\"\n",
        ")"
      ]
    },
    {
      "cell_type": "code",
      "source": [
        "import nlpcloud\n",
        "\n",
        "client = nlpcloud.Client(\"python-langdetect\", \"5d4438bb232a5de701a472a229ea3d94eaa18e9d\", gpu=False)\n",
        "client.langdetection(\n",
        "    \"\"\"John Doe has been working for Microsoft in Seattle since 1999. Et il parle aussi un peu français.\"\"\"\n",
        ")"
      ],
      "metadata": {
        "colab": {
          "base_uri": "https://localhost:8080/"
        },
        "id": "MakNGxhoWBRA",
        "outputId": "b3cb1bf0-2f11-48d5-a3fd-36de66689b0a"
      },
      "execution_count": null,
      "outputs": [
        {
          "output_type": "execute_result",
          "data": {
            "text/plain": [
              "{'languages': [{'en': 0.8571397010038821}, {'fr': 0.14285849494083339}]}"
            ]
          },
          "metadata": {},
          "execution_count": 17
        }
      ]
    },
    {
      "cell_type": "code",
      "source": [
        "import nlpcloud\n",
        "\n",
        "client = nlpcloud.Client(\"finetuned-llama-3-70b\", \"5d4438bb232a5de701a472a229ea3d94eaa18e9d\", gpu=True)\n",
        "client.sentiment(\n",
        "    \"\"\"I hate convoluted products with poor documentation. I see such products all the time. But NLP Cloud is not like that!\"\"\",\n",
        "    target=\"NLP Cloud\"\n",
        ")\n"
      ],
      "metadata": {
        "colab": {
          "base_uri": "https://localhost:8080/"
        },
        "id": "foEYh1qAUXGn",
        "outputId": "8286ec39-82d4-414b-a633-bdf0a6b59db4"
      },
      "execution_count": null,
      "outputs": [
        {
          "output_type": "execute_result",
          "data": {
            "text/plain": [
              "{'scored_labels': [{'label': 'POSITIVE', 'score': 1},\n",
              "  {'label': 'joy', 'score': 1}]}"
            ]
          },
          "metadata": {},
          "execution_count": 8
        }
      ]
    },
    {
      "cell_type": "code",
      "source": [
        "!pip install nlpcloud"
      ],
      "metadata": {
        "colab": {
          "base_uri": "https://localhost:8080/"
        },
        "id": "EN7uybx6ci5F",
        "outputId": "17ac128a-7725-46f9-c939-b6ff1cc98374"
      },
      "execution_count": null,
      "outputs": [
        {
          "output_type": "stream",
          "name": "stdout",
          "text": [
            "Collecting nlpcloud\n",
            "  Downloading nlpcloud-1.1.47-py3-none-any.whl.metadata (1.1 kB)\n",
            "Requirement already satisfied: requests in /usr/local/lib/python3.11/dist-packages (from nlpcloud) (2.32.3)\n",
            "Requirement already satisfied: charset-normalizer<4,>=2 in /usr/local/lib/python3.11/dist-packages (from requests->nlpcloud) (3.4.2)\n",
            "Requirement already satisfied: idna<4,>=2.5 in /usr/local/lib/python3.11/dist-packages (from requests->nlpcloud) (3.10)\n",
            "Requirement already satisfied: urllib3<3,>=1.21.1 in /usr/local/lib/python3.11/dist-packages (from requests->nlpcloud) (2.5.0)\n",
            "Requirement already satisfied: certifi>=2017.4.17 in /usr/local/lib/python3.11/dist-packages (from requests->nlpcloud) (2025.8.3)\n",
            "Downloading nlpcloud-1.1.47-py3-none-any.whl (3.9 kB)\n",
            "Installing collected packages: nlpcloud\n",
            "Successfully installed nlpcloud-1.1.47\n"
          ]
        }
      ]
    },
    {
      "cell_type": "code",
      "source": [],
      "metadata": {
        "id": "RKjEkIAa4hWq"
      },
      "execution_count": null,
      "outputs": []
    },
    {
      "cell_type": "code",
      "source": [
        "import nlpcloud\n",
        "\n",
        "class NLPApp:\n",
        "\n",
        "  def __init__(self):\n",
        "\n",
        "    self.__database = {}\n",
        "    self.__first_menu()\n",
        "\n",
        "  def __first_menu(self):\n",
        "\n",
        "    first_input = input(\n",
        "          \"\"\"hi ! how u like to proceed?\n",
        "          1.not a member ? register\n",
        "          2.already a member? login\n",
        "          3.woopaa!!! exit\"\"\"\n",
        "    )\n",
        "\n",
        "    if first_input == '1':\n",
        "      self.__register()\n",
        "    elif first_input == '2':\n",
        "      self.__login()\n",
        "    else:\n",
        "      exit()\n",
        "\n",
        "  def __second_menu(self):\n",
        "\n",
        "    second_input = input(\n",
        "          \"\"\"hi ! how u like to proceed?\n",
        "          1.ner\n",
        "          2. language detection\n",
        "          3.sentiment analysis\n",
        "          4.logout\"\"\"\n",
        "    )\n",
        "\n",
        "    if second_input == '1':\n",
        "      self.__ner()\n",
        "    elif second_input == '2':\n",
        "      self.__language_detection()\n",
        "    elif second_input == '3':\n",
        "      self.__sentiment_analysis()\n",
        "    else:\n",
        "      exit()\n",
        "\n",
        "  def __register(self):\n",
        "    name = input(\"enter name\")\n",
        "    email = input(\"enter email\")\n",
        "    password = input(\"enter password\")\n",
        "\n",
        "    if email in self.__database:\n",
        "      print(\"user already exists\")\n",
        "    else:\n",
        "      self.__database[email] = [name, password]\n",
        "      print(\"registration sucessful.\")\n",
        "      print(self.__database)\n",
        "      self.__first_menu()\n",
        "\n",
        "  def __login(self):\n",
        "    email = input(\"enter email\")\n",
        "    password = input(\"enter password\")\n",
        "\n",
        "    if email in self.__database:\n",
        "      if self.__database[email][1] == password:\n",
        "        print(\"login sucessful\")\n",
        "        self.__second_menu()\n",
        "      else:\n",
        "        print(\"wrong password\")\n",
        "        self.__login()\n",
        "    else:\n",
        "      print(\"this email is not registered\")\n",
        "      self.__first_menu()\n",
        "\n",
        "\n",
        "  def __ner(self):\n",
        "    para = input(\"enter para\")\n",
        "    search_term = input(\"enter search term\")\n",
        "\n",
        "    client = nlpcloud.Client(\"finetuned-llama-3-70b\", \"5d4438bb232a5de701a472a229ea3d94eaa18e9d\", gpu=True)\n",
        "    response = client.entities(para,searched_entity=search_term)\n",
        "\n",
        "    print(response)\n",
        "    self.__second_menu()\n",
        "\n",
        "  def __sentiment_analysis(self):\n",
        "    para = input(\"enter para\")\n",
        "\n",
        "    client = nlpcloud.Client(\"finetuned-llama-3-70b\", \"5d4438bb232a5de701a472a229ea3d94eaa18e9d\", gpu=True)\n",
        "    response = client.sentiment(para)\n",
        "\n",
        "    L = []\n",
        "    for i in response['scored_labels']:\n",
        "      L.append(i['score'])\n",
        "\n",
        "    index = sorted(list(enumerate(L)), key=lambda x: x[1], reverse=True)[0][0]\n",
        "    print(response['scored_labels'][index]['label'])\n",
        "    self.__second_menu()\n",
        "\n",
        "  def __language_detection(self):\n",
        "    para = input(\"enter para\")\n",
        "\n",
        "    client = nlpcloud.Client(\"python-langdetect\", \"5d4438bb232a5de701a472a229ea3d94eaa18e9d\", gpu=False)\n",
        "    response = client.langdetection(para)\n",
        "\n",
        "    print(response)\n",
        "    self.__second_menu()\n",
        "\n",
        "  def __logout(self):\n",
        "    exit()\n",
        "\n",
        "obj = NLPApp()"
      ],
      "metadata": {
        "collapsed": true,
        "id": "MGW2LQA04jAn"
      },
      "execution_count": null,
      "outputs": []
    }
  ]
}